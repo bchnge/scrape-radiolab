{
 "cells": [
  {
   "cell_type": "markdown",
   "metadata": {},
   "source": [
    "# Scrape the archive of Radiolab podcasts from wnyc\n",
    "### RL_archive_bs4.ipynb\n",
    "\n",
    "I have been a fan of Radiolab and their podcasts ever since I was a college freshman, when I was assigned to listen to the episode titled [\"Musical Language.\"](https://www.wnycstudios.org/podcasts/radiolab/episodes/91512-musical-language) It was my first introduction to podcasts as a medium, and the thoughtfulness of the composition really left a mark on my memory and listening.\n",
    "\n",
    "As someone who holds dearly the Radiolab of old, and in the era of convenience disappointed in the fact that older episodes continue to be trimmed from the Podcast apps, I wanted to listen to older episodes of Radiolab without having to sit behind the computer or leaving my phone screen on."
   ]
  },
  {
   "cell_type": "code",
   "execution_count": 6,
   "metadata": {},
   "outputs": [],
   "source": [
    "import pandas as pd\n",
    "from bs4 import BeautifulSoup\n",
    "from wget import download\n",
    "from urllib.request import urlopen\n",
    "import re\n",
    "from time import sleep"
   ]
  },
  {
   "cell_type": "code",
   "execution_count": null,
   "metadata": {},
   "outputs": [],
   "source": [
    "## Let's get a working example"
   ]
  },
  {
   "cell_type": "code",
   "execution_count": 40,
   "metadata": {},
   "outputs": [],
   "source": [
    "library_path = '/Volumes/Elements/NVIDIA_SHIELD/PlexLibrary/Podcasts/radiolab/'"
   ]
  },
  {
   "cell_type": "code",
   "execution_count": 27,
   "metadata": {},
   "outputs": [],
   "source": [
    "stump_url = 'https://www.wnycstudios.org'"
   ]
  },
  {
   "cell_type": "code",
   "execution_count": 43,
   "metadata": {},
   "outputs": [],
   "source": [
    "base_url = 'https://www.wnycstudios.org/shows/radiolab/podcasts'\n",
    "pages = range(1,37)"
   ]
  },
  {
   "cell_type": "code",
   "execution_count": 11,
   "metadata": {},
   "outputs": [],
   "source": [
    "html = urlopen(base_url).read()"
   ]
  },
  {
   "cell_type": "code",
   "execution_count": 13,
   "metadata": {},
   "outputs": [],
   "source": [
    "bs = BeautifulSoup(html)"
   ]
  },
  {
   "cell_type": "code",
   "execution_count": 16,
   "metadata": {},
   "outputs": [],
   "source": [
    "articles = bs.find_all('article')"
   ]
  },
  {
   "cell_type": "code",
   "execution_count": 21,
   "metadata": {},
   "outputs": [],
   "source": [
    "url = articles[0].find('a')['href']"
   ]
  },
  {
   "cell_type": "code",
   "execution_count": 28,
   "metadata": {},
   "outputs": [
    {
     "data": {
      "text/plain": [
       "'https://www.wnycstudios.org/podcasts/radiolab/articles/graham'"
      ]
     },
     "execution_count": 28,
     "metadata": {},
     "output_type": "execute_result"
    }
   ],
   "source": [
    "stump_url + url"
   ]
  },
  {
   "cell_type": "code",
   "execution_count": 30,
   "metadata": {},
   "outputs": [],
   "source": [
    "podcast_url = stump_url + url\n",
    "podcast_html = BeautifulSoup(urlopen(podcast_url).read())"
   ]
  },
  {
   "cell_type": "code",
   "execution_count": 37,
   "metadata": {},
   "outputs": [],
   "source": [
    "podcast_download_link = podcast_html.find('a', attrs= {'class': 'download-link'})['href']"
   ]
  },
  {
   "cell_type": "code",
   "execution_count": 41,
   "metadata": {},
   "outputs": [
    {
     "data": {
      "text/plain": [
       "'/Volumes/Elements/NVIDIA_SHIELD/PlexLibrary/Podcasts/radiolab//radiolab_podcast20graham.mp3'"
      ]
     },
     "execution_count": 41,
     "metadata": {},
     "output_type": "execute_result"
    }
   ],
   "source": [
    "download(podcast_download_link, library_path)"
   ]
  },
  {
   "cell_type": "code",
   "execution_count": 42,
   "metadata": {},
   "outputs": [],
   "source": [
    "## Time to generalize functions"
   ]
  },
  {
   "cell_type": "code",
   "execution_count": 118,
   "metadata": {},
   "outputs": [],
   "source": [
    "def download_podcast(podcast_url):\n",
    "    podcast_html = BeautifulSoup(urlopen(podcast_url).read())\n",
    "    podcast_download = podcast_html.find('a', attrs= {'class': 'download-link'})\n",
    "    if podcast_download != None: # It's possible for an article to not be a downloadable episode\n",
    "        if podcast_download.get('href') != None: # It is also possible for a page to erroneously omit a download link\n",
    "            href = podcast_download['href']\n",
    "            # In rare cases, the redirect url does not work, but the original url will.\n",
    "            podcast_download_link = ['http' + x for x in re.split('http', href)][-1]            \n",
    "            download(podcast_download_link, library_path)\n",
    "    \n",
    "def get_podcast_urls(page_no):\n",
    "    url = base_url + '/' + str(page_no)\n",
    "    bs = BeautifulSoup(urlopen(url).read())\n",
    "    articles = bs.find_all('article')\n",
    "    urls = [stump_url + article.find('a')['href'] for article in articles]\n",
    "    return(urls)\n"
   ]
  },
  {
   "cell_type": "code",
   "execution_count": 119,
   "metadata": {},
   "outputs": [],
   "source": []
  },
  {
   "cell_type": "code",
   "execution_count": 132,
   "metadata": {},
   "outputs": [
    {
     "name": "stdout",
     "output_type": "stream",
     "text": [
      "https://www.wnycstudios.org/podcasts/radiolab/episodes/91508-morality\n",
      "https://www.wnycstudios.org/podcasts/radiolab/episodes/91504-beyond-time\n",
      "https://www.wnycstudios.org/podcasts/radiolab/episodes/91562-mortality\n",
      "https://www.wnycstudios.org/podcasts/radiolab/episodes/91569-memory-and-forgetting\n",
      "https://www.wnycstudios.org/podcasts/radiolab/episodes/91552-zoos\n",
      "https://www.wnycstudios.org/podcasts/radiolab/episodes/91584-time\n",
      "https://www.wnycstudios.org/podcasts/radiolab/episodes/91528-sleep\n",
      "https://www.wnycstudios.org/podcasts/radiolab/episodes/91539-placebo\n",
      "https://www.wnycstudios.org/podcasts/radiolab/episodes/91496-who-am-i\n",
      "https://www.wnycstudios.org/podcasts/radiolab/episodes/91580-stress\n",
      "https://www.wnycstudios.org/podcasts/radiolab/episodes/91524-where-am-i\n",
      "No more pages after 44\n"
     ]
    }
   ],
   "source": [
    "pages = range(42,100)\n",
    "for page_no in pages:\n",
    "    podcast_urls = get_podcast_urls(page_no)\n",
    "    if len(podcast_urls) > 0:\n",
    "        for p in podcast_urls:\n",
    "            sleep(15)\n",
    "            print(p)\n",
    "            download_podcast(p)\n",
    "        sleep(60*3)\n",
    "    else:\n",
    "        print('No more pages after ' + str(page_no))\n",
    "        break\n",
    "    \n",
    "    "
   ]
  },
  {
   "cell_type": "code",
   "execution_count": 133,
   "metadata": {},
   "outputs": [
    {
     "data": {
      "text/plain": [
       "44"
      ]
     },
     "execution_count": 133,
     "metadata": {},
     "output_type": "execute_result"
    }
   ],
   "source": [
    "page_no"
   ]
  },
  {
   "cell_type": "code",
   "execution_count": 123,
   "metadata": {},
   "outputs": [
    {
     "data": {
      "text/plain": [
       "['https://www.wnycstudios.org/podcasts/radiolab/articles/91836-wordless-music',\n",
       " 'https://www.wnycstudios.org/podcasts/radiolab/articles/91831-open-outcry',\n",
       " 'https://www.wnycstudios.org/podcasts/radiolab/articles/91820-jad-and-robert-the-early-years',\n",
       " 'https://www.wnycstudios.org/podcasts/radiolab/episodes/91629-pop-music',\n",
       " 'https://www.wnycstudios.org/podcasts/radiolab/episodes/91596-so-called-life',\n",
       " 'https://www.wnycstudios.org/podcasts/radiolab/episodes/91612-deception',\n",
       " 'https://www.wnycstudios.org/podcasts/radiolab/episodes/91588-laughter',\n",
       " 'https://www.wnycstudios.org/podcasts/radiolab/articles/91763-our-podcast-comes-in-all-shapes-and-sizes',\n",
       " 'https://www.wnycstudios.org/podcasts/radiolab/articles/91753-salle-des-departs']"
      ]
     },
     "execution_count": 123,
     "metadata": {},
     "output_type": "execute_result"
    }
   ],
   "source": [
    "podcast_urls"
   ]
  },
  {
   "cell_type": "code",
   "execution_count": 124,
   "metadata": {},
   "outputs": [],
   "source": [
    "podcast_html = BeautifulSoup(urlopen(podcast_urls[5]).read())\n",
    "podcast_download = podcast_html.find('a', attrs= {'class': 'download-link'})"
   ]
  },
  {
   "cell_type": "code",
   "execution_count": 125,
   "metadata": {},
   "outputs": [],
   "source": [
    "href = podcast_download.get('href')"
   ]
  },
  {
   "cell_type": "code",
   "execution_count": 126,
   "metadata": {},
   "outputs": [
    {
     "data": {
      "text/plain": [
       "'https://www.podtrac.com/pts/redirect.mp3/audio.wnyc.org/radiolab/radiolab022908.mp3'"
      ]
     },
     "execution_count": 126,
     "metadata": {},
     "output_type": "execute_result"
    }
   ],
   "source": [
    "href"
   ]
  },
  {
   "cell_type": "code",
   "execution_count": 117,
   "metadata": {},
   "outputs": [
    {
     "data": {
      "text/plain": [
       "'http://audio.wnyc.org/radiolab/radiolab081407pod.mp3'"
      ]
     },
     "execution_count": 117,
     "metadata": {},
     "output_type": "execute_result"
    }
   ],
   "source": [
    "['http' + x for x in re.split('http', href)][-1]"
   ]
  },
  {
   "cell_type": "code",
   "execution_count": 127,
   "metadata": {},
   "outputs": [
    {
     "data": {
      "text/plain": [
       "'radiolab022908.mp3'"
      ]
     },
     "execution_count": 127,
     "metadata": {},
     "output_type": "execute_result"
    }
   ],
   "source": [
    "download(href)"
   ]
  },
  {
   "cell_type": "code",
   "execution_count": 91,
   "metadata": {},
   "outputs": [
    {
     "data": {
      "text/plain": [
       "False"
      ]
     },
     "execution_count": 91,
     "metadata": {},
     "output_type": "execute_result"
    }
   ],
   "source": [
    "podcast_download.get('href') == None"
   ]
  },
  {
   "cell_type": "code",
   "execution_count": null,
   "metadata": {},
   "outputs": [],
   "source": []
  }
 ],
 "metadata": {
  "kernelspec": {
   "display_name": "Python 3",
   "language": "python",
   "name": "python3"
  },
  "language_info": {
   "codemirror_mode": {
    "name": "ipython",
    "version": 3
   },
   "file_extension": ".py",
   "mimetype": "text/x-python",
   "name": "python",
   "nbconvert_exporter": "python",
   "pygments_lexer": "ipython3",
   "version": "3.7.3"
  }
 },
 "nbformat": 4,
 "nbformat_minor": 4
}
