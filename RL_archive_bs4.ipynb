{
 "cells": [
  {
   "cell_type": "markdown",
   "metadata": {},
   "source": [
    "# Scrape the archive of Radiolab podcasts from wnyc\n",
    "### RL_archive_bs4.ipynb\n",
    "\n",
    "I've been a fan of Radiolab ever since I was a college freshman, when I was assigned to listen to [\"Musical Language.\"](https://www.wnycstudios.org/podcasts/radiolab/episodes/91512-musical-language) It was my first introduction to the medium, and the thoughtfulness of this episode's composition really left a mark on me.\n",
    "\n",
    "Radiolab has evolved a great deal over time, shifting from science and technology to more culture/politics. Moreover, older episodes continue to be trimmed from podcast apps, making it difficult and inconvenient to listen to my favorite old episodes.\n",
    "\n",
    "I decided to build a quick scraper of the wnycstudios website to download the complete archive of Radiolab episodes, which I can then listen to via my Plex Pass app."
   ]
  },
  {
   "cell_type": "code",
   "execution_count": 6,
   "metadata": {},
   "outputs": [],
   "source": [
    "import pandas as pd\n",
    "from bs4 import BeautifulSoup\n",
    "from wget import download\n",
    "from urllib.request import urlopen\n",
    "import re\n",
    "from time import sleep"
   ]
  },
  {
   "cell_type": "markdown",
   "metadata": {},
   "source": [
    "## Let's get a working example using Beautiful Soup"
   ]
  },
  {
   "cell_type": "code",
   "execution_count": 40,
   "metadata": {},
   "outputs": [],
   "source": [
    "library_path = '/Volumes/Elements/NVIDIA_SHIELD/PlexLibrary/Podcasts/radiolab/'\n",
    "\n",
    "stump_url = 'https://www.wnycstudios.org'\n",
    "\n",
    "base_url = 'https://www.wnycstudios.org/shows/radiolab/podcasts'\n",
    "pages = range(1,100) # the archive is paginated. 100 should be enough to cover the history"
   ]
  },
  {
   "cell_type": "code",
   "execution_count": 11,
   "metadata": {},
   "outputs": [],
   "source": [
    "html = urlopen(base_url).read()"
   ]
  },
  {
   "cell_type": "code",
   "execution_count": 13,
   "metadata": {},
   "outputs": [],
   "source": [
    "bs = BeautifulSoup(html)"
   ]
  },
  {
   "cell_type": "code",
   "execution_count": 16,
   "metadata": {},
   "outputs": [],
   "source": [
    "articles = bs.find_all('article')"
   ]
  },
  {
   "cell_type": "code",
   "execution_count": 21,
   "metadata": {},
   "outputs": [],
   "source": [
    "url = articles[0].find('a')['href']"
   ]
  },
  {
   "cell_type": "code",
   "execution_count": 30,
   "metadata": {},
   "outputs": [],
   "source": [
    "podcast_url = stump_url + url\n",
    "podcast_html = BeautifulSoup(urlopen(podcast_url).read())"
   ]
  },
  {
   "cell_type": "code",
   "execution_count": 37,
   "metadata": {},
   "outputs": [],
   "source": [
    "podcast_download_link = podcast_html.find('a', attrs= {'class': 'download-link'})['href']"
   ]
  },
  {
   "cell_type": "code",
   "execution_count": 41,
   "metadata": {},
   "outputs": [
    {
     "data": {
      "text/plain": [
       "'/Volumes/Elements/NVIDIA_SHIELD/PlexLibrary/Podcasts/radiolab//radiolab_podcast20graham.mp3'"
      ]
     },
     "execution_count": 41,
     "metadata": {},
     "output_type": "execute_result"
    }
   ],
   "source": [
    "download(podcast_download_link, library_path)"
   ]
  },
  {
   "cell_type": "markdown",
   "metadata": {},
   "source": [
    "## Seems to work. Time to generalize and scale to the entire archive"
   ]
  },
  {
   "cell_type": "code",
   "execution_count": 118,
   "metadata": {},
   "outputs": [],
   "source": [
    "def download_podcast(podcast_url):\n",
    "    podcast_html = BeautifulSoup(urlopen(podcast_url).read())\n",
    "    podcast_download = podcast_html.find('a', attrs= {'class': 'download-link'})\n",
    "    if podcast_download != None: # It's possible for an article to not be a downloadable episode\n",
    "        if podcast_download.get('href') != None: # It is also possible for a page to erroneously omit a download link\n",
    "            href = podcast_download['href']\n",
    "            # In rare cases, the redirect url does not work, but the original url will.\n",
    "            podcast_download_link = ['http' + x for x in re.split('http', href)][-1]            \n",
    "            download(podcast_download_link, library_path)\n",
    "    \n",
    "def get_podcast_urls(page_no):\n",
    "    url = base_url + '/' + str(page_no)\n",
    "    bs = BeautifulSoup(urlopen(url).read())\n",
    "    articles = bs.find_all('article')\n",
    "    urls = [stump_url + article.find('a')['href'] for article in articles]\n",
    "    return(urls)\n"
   ]
  },
  {
   "cell_type": "code",
   "execution_count": 132,
   "metadata": {},
   "outputs": [
    {
     "name": "stdout",
     "output_type": "stream",
     "text": [
      "https://www.wnycstudios.org/podcasts/radiolab/episodes/91508-morality\n",
      "https://www.wnycstudios.org/podcasts/radiolab/episodes/91504-beyond-time\n",
      "https://www.wnycstudios.org/podcasts/radiolab/episodes/91562-mortality\n",
      "https://www.wnycstudios.org/podcasts/radiolab/episodes/91569-memory-and-forgetting\n",
      "https://www.wnycstudios.org/podcasts/radiolab/episodes/91552-zoos\n",
      "https://www.wnycstudios.org/podcasts/radiolab/episodes/91584-time\n",
      "https://www.wnycstudios.org/podcasts/radiolab/episodes/91528-sleep\n",
      "https://www.wnycstudios.org/podcasts/radiolab/episodes/91539-placebo\n",
      "https://www.wnycstudios.org/podcasts/radiolab/episodes/91496-who-am-i\n",
      "https://www.wnycstudios.org/podcasts/radiolab/episodes/91580-stress\n",
      "https://www.wnycstudios.org/podcasts/radiolab/episodes/91524-where-am-i\n",
      "No more pages after 44\n"
     ]
    }
   ],
   "source": [
    "pages = range(1,100)\n",
    "for page_no in pages:\n",
    "    podcast_urls = get_podcast_urls(page_no)\n",
    "    if len(podcast_urls) > 0:\n",
    "        for p in podcast_urls:\n",
    "            sleep(15)\n",
    "            print(p)\n",
    "            download_podcast(p)\n",
    "        sleep(60*3)\n",
    "    else:\n",
    "        print('No more pages after ' + str(page_no))\n",
    "        break"
   ]
  }
 ],
 "metadata": {
  "kernelspec": {
   "display_name": "Python 3",
   "language": "python",
   "name": "python3"
  },
  "language_info": {
   "codemirror_mode": {
    "name": "ipython",
    "version": 3
   },
   "file_extension": ".py",
   "mimetype": "text/x-python",
   "name": "python",
   "nbconvert_exporter": "python",
   "pygments_lexer": "ipython3",
   "version": "3.7.3"
  }
 },
 "nbformat": 4,
 "nbformat_minor": 4
}
