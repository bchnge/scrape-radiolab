{
 "cells": [
  {
   "cell_type": "code",
   "execution_count": 7,
   "metadata": {},
   "outputs": [],
   "source": [
    "import scrapy\n",
    "from scrapy.crawler import CrawlerProcess\n",
    "from scrapy import Spider\n",
    "import logging\n",
    "import pandas as pd\n",
    "import wget\n",
    "import json\n",
    "import os\n",
    "import time"
   ]
  },
  {
   "cell_type": "code",
   "execution_count": 2,
   "metadata": {},
   "outputs": [],
   "source": [
    "base_url = 'https://www.wnycstudios.org/shows/radiolab/podcasts/'\n",
    "pages = range(1,37)"
   ]
  },
  {
   "cell_type": "code",
   "execution_count": 3,
   "metadata": {},
   "outputs": [],
   "source": [
    "class JsonWriterPipeline(object):\n",
    "\n",
    "    def open_spider(self, spider):\n",
    "        self.file = open('quoteresult.jl', 'w')\n",
    "\n",
    "    def close_spider(self, spider):\n",
    "        self.file.close()\n",
    "\n",
    "    def process_item(self, item, spider):\n",
    "        line = json.dumps(dict(item)) + \"\\n\"\n",
    "        self.file.write(line)\n",
    "        return item"
   ]
  },
  {
   "cell_type": "code",
   "execution_count": 4,
   "metadata": {},
   "outputs": [],
   "source": [
    "class QuotesSpider(scrapy.Spider):\n",
    "    name = \"quotes\"\n",
    "    start_urls = [base_url + str(p) + '/' for p in pages]\n",
    "    custom_settings = {\n",
    "        'LOG_LEVEL': logging.WARNING,\n",
    "        'ITEM_PIPELINES': {'__main__.JsonWriterPipeline': 1}, # Used for pipeline 1\n",
    "        'FEED_FORMAT':'json',                                 # Used for pipeline 2\n",
    "        'FEED_URI': 'quoteresult.json'                        # Used for pipeline 2\n",
    "    }\n",
    "    \n",
    "    def parse(self, response):\n",
    "        yield {\n",
    "            'links': response.css('a.episode-tease__title-link::attr(href)').extract()\n",
    "        }"
   ]
  },
  {
   "cell_type": "code",
   "execution_count": 5,
   "metadata": {},
   "outputs": [
    {
     "name": "stderr",
     "output_type": "stream",
     "text": [
      "2019-01-17 05:05:28 [scrapy.utils.log] INFO: Scrapy 1.5.1 started (bot: scrapybot)\n",
      "2019-01-17 05:05:28 [scrapy.utils.log] INFO: Versions: lxml 4.2.5.0, libxml2 2.9.8, cssselect 1.0.3, parsel 1.5.1, w3lib 1.20.0, Twisted 18.9.0, Python 3.6.8 |Anaconda, Inc.| (default, Dec 30 2018, 01:22:34) - [GCC 7.3.0], pyOpenSSL 18.0.0 (OpenSSL 1.1.1a  20 Nov 2018), cryptography 2.4.2, Platform Linux-4.15.0-43-generic-x86_64-with-debian-stretch-sid\n",
      "2019-01-17 05:05:28 [scrapy.crawler] INFO: Overridden settings: {'FEED_FORMAT': 'json', 'FEED_URI': 'quoteresult.json', 'LOG_LEVEL': 30, 'USER_AGENT': 'Mozilla/4.0 (compatible; MSIE 7.0; Windows NT 5.1)'}\n"
     ]
    }
   ],
   "source": [
    "process = CrawlerProcess({\n",
    "    'USER_AGENT': 'Mozilla/4.0 (compatible; MSIE 7.0; Windows NT 5.1)'\n",
    "})\n",
    "\n",
    "process.crawl(QuotesSpider)\n",
    "process.start()"
   ]
  },
  {
   "cell_type": "code",
   "execution_count": 6,
   "metadata": {},
   "outputs": [
    {
     "name": "stdout",
     "output_type": "stream",
     "text": [
      "-rw-r--r-- 1 root 10050 Jan 17 05:05 quoteresult.jl\n",
      "-rw-r--r-- 1 root 11110 Jan 17 05:05 quoteresult.json\n"
     ]
    }
   ],
   "source": [
    "ll quoteresult.*"
   ]
  },
  {
   "cell_type": "code",
   "execution_count": 11,
   "metadata": {},
   "outputs": [],
   "source": [
    "import pandas as pd"
   ]
  },
  {
   "cell_type": "code",
   "execution_count": 16,
   "metadata": {},
   "outputs": [],
   "source": [
    "results = pd.read_json('quoteresult.jl', lines=True)"
   ]
  },
  {
   "cell_type": "code",
   "execution_count": 24,
   "metadata": {},
   "outputs": [],
   "source": [
    "def flatten(l):\n",
    "    flat_list = [item for sublist in l for item in sublist]\n",
    "    return(flat_list)"
   ]
  },
  {
   "cell_type": "code",
   "execution_count": 29,
   "metadata": {},
   "outputs": [],
   "source": [
    "podcast_urls = ['https://www.wnycstudios.org' + u + '/' for u in flatten(list(results.links))]"
   ]
  },
  {
   "cell_type": "code",
   "execution_count": 38,
   "metadata": {},
   "outputs": [],
   "source": [
    "pd.DataFrame(podcast_urls).to_csv('podcast_urls.csv', index = False)"
   ]
  },
  {
   "cell_type": "code",
   "execution_count": 12,
   "metadata": {},
   "outputs": [],
   "source": [
    "podcast_urls = list(pd.read_csv('podcast_urls.csv')['0'])"
   ]
  },
  {
   "cell_type": "code",
   "execution_count": 14,
   "metadata": {},
   "outputs": [],
   "source": [
    "\n",
    "class DownloadSpider(scrapy.Spider):\n",
    "    name = \"quotes\"\n",
    "    start_urls = podcast_urls\n",
    "    custom_settings = {\n",
    "        'LOG_LEVEL': logging.WARNING,\n",
    "        'ITEM_PIPELINES': {'__main__.JsonWriterPipeline': 1}, # Used for pipeline 1\n",
    "        'FEED_FORMAT':'json',                                 # Used for pipeline 2\n",
    "        'FEED_URI': 'quoteresult.json'                        # Used for pipeline 2\n",
    "    }\n",
    "    \n",
    "    def parse(self, response):\n",
    "        yield {\n",
    "            'links': response.css('a.download-link::attr(href)').extract_first()\n",
    "        }"
   ]
  },
  {
   "cell_type": "code",
   "execution_count": 16,
   "metadata": {},
   "outputs": [
    {
     "name": "stderr",
     "output_type": "stream",
     "text": [
      "2019-01-17 05:19:13 [scrapy.utils.log] INFO: Scrapy 1.5.1 started (bot: scrapybot)\n",
      "2019-01-17 05:19:13 [scrapy.utils.log] INFO: Versions: lxml 4.2.5.0, libxml2 2.9.8, cssselect 1.0.3, parsel 1.5.1, w3lib 1.20.0, Twisted 18.9.0, Python 3.6.8 |Anaconda, Inc.| (default, Dec 30 2018, 01:22:34) - [GCC 7.3.0], pyOpenSSL 18.0.0 (OpenSSL 1.1.1a  20 Nov 2018), cryptography 2.4.2, Platform Linux-4.15.0-43-generic-x86_64-with-debian-stretch-sid\n"
     ]
    }
   ],
   "source": [
    "process = CrawlerProcess({\n",
    "    'USER_AGENT': 'Mozilla/4.0 (compatible; MSIE 7.0; Windows NT 5.1)'\n",
    "})\n"
   ]
  },
  {
   "cell_type": "code",
   "execution_count": 17,
   "metadata": {},
   "outputs": [
    {
     "name": "stderr",
     "output_type": "stream",
     "text": [
      "2019-01-17 05:19:15 [scrapy.crawler] INFO: Overridden settings: {'FEED_FORMAT': 'json', 'FEED_URI': 'quoteresult.json', 'LOG_LEVEL': 30, 'USER_AGENT': 'Mozilla/4.0 (compatible; MSIE 7.0; Windows NT 5.1)'}\n"
     ]
    }
   ],
   "source": [
    "process.crawl(DownloadSpider)\n",
    "process.start()"
   ]
  },
  {
   "cell_type": "code",
   "execution_count": 18,
   "metadata": {},
   "outputs": [],
   "source": [
    "results = pd.read_json('quoteresult.jl', lines = True)"
   ]
  },
  {
   "cell_type": "code",
   "execution_count": 21,
   "metadata": {},
   "outputs": [],
   "source": [
    "results.to_csv('podcast_download_links.csv', index = False)"
   ]
  },
  {
   "cell_type": "code",
   "execution_count": 61,
   "metadata": {},
   "outputs": [
    {
     "name": "stdout",
     "output_type": "stream",
     "text": [
      "radiolab_podcast18unravelingbolero.mp3?aisGetOriginalStream=true\n",
      "moreperfect052416_episode-zero.mp3?aisGetOriginalStream=true\n",
      "radiolab_podcast18theprimordialjourney_.mp3?aisGetOriginalStream=true\n",
      "radiolab_podcast18darksideearth.mp3?aisGetOriginalStream=true\n",
      "radiolab_podcast18rippinrainbownewer3.mp3?aisGetOriginalStream=true\n",
      "radiolab_podcast18bonusscavengerhunt.mp3?aisGetOriginalStream=true\n",
      "radiolab_podcast18tweakthevote.mp3?aisGetOriginalStream=true\n",
      "radiolab_podcast18badshow.mp3?aisGetOriginalStream=true\n",
      "radiolab_podcast15nazicamp.mp3?awparams=morgan%3Afalse\n",
      "radiolab_podcast14theskull.mp3?awparams=postroll%3Afalse\n",
      "radiolab_podcast13tjdave.mp3\n",
      "radiolab041811.mp3\n",
      "radiolab_podcast17ponzi.mp3\n",
      "radiolab081407pod.mp3\n",
      "radiolab_podcast11dianerunner.mp3\n",
      "radiolab_podcast11goalkeeper.mp3\n",
      "radiolab012511.mp3\n",
      "radiolab_podcast13quicksand.mp3\n",
      "radiolab_podcast17crypto.mp3\n",
      "radiolab_podcast17revisitingfaultline.mp3\n",
      "radiolab_podcast17gondolier.mp3\n",
      "radiolab_podcast17theradiolab.mp3\n",
      "radiolab_podcast17nullandvoid.mp3\n",
      "radiolab_podcast17funkyhandjive.mp3\n",
      "radiolab_podcast17nukes.mp3\n",
      "radiolab030811.mp3\n",
      "radiolab_podcast13pooptrain.mp3\n",
      "radiolab_podcast11myname.mp3\n",
      "radiolab091213.mp3\n",
      "radiolab_podcast13heimlich.mp3\n",
      "radiolab073113.mp3\n",
      "rl_extra17henriettalacks.mp3\n",
      "radiolab_podcast13oliver.mp3\n",
      "radiolab_podcast13allyschoice.mp3\n",
      "radiolab_podcast11holmes.mp3\n",
      "radiolab_podcast13everything.mp3\n",
      "rl_extras062713solid.mp3\n",
      "radiolab_podcast13bugmusic.mp3\n",
      "radiolab_podcast10capgras.mp3\n",
      "radiolab041610.mp3\n",
      "radiolab_podcast17shotsfiredtwo.mp3\n",
      "radiolab040210.mp3\n",
      "radiolab_podcast10busstop.mp3\n",
      "radiolab_podcast10fumanchu.mp3\n",
      "radiolab_podcast10rainhut.mp3\n",
      "radiolab_podcast11eggers.mp3\n",
      "radiolab_podcast13rodneyvdeath.mp3\n",
      "radiolab_podcast11invisible.mp3\n",
      "radiolab_podcast11xmen.mp3\n",
      "radiolab_podcast11slow.mp3\n",
      "radiolab111411.mp3\n",
      "radiolab_podcast09inc.mp3\n",
      "radiolab_podcast13dawnmidi.mp3\n",
      "radiolab010912.mp3\n",
      "radiolab040910.mp3\n",
      "radiolab_podcast12fetal.mp3\n",
      "radiolab_podcast12crossroads.mp3\n",
      "radiolab_podcast11sleepless.mp3\n",
      "radiolab_podcast12turing.mp3\n",
      "radiolab022012.mp3\n",
      "radiolab_podcast12fromla.mp3\n",
      "radiolab040212.mp3\n",
      "radiolab100909.mp3\n",
      "radiolab_podcast11deathmask.mp3\n",
      "radiolab020513.mp3\n",
      "radiolab_podcast13doctors.mp3\n",
      "radiolab_podcast12empathy.mp3\n",
      "radiolab_podcast12cocco.mp3\n",
      "radiolab111912.mp3\n",
      "radiolab_podcast12blanc.mp3\n",
      "radiolab_extras102212blindtruth.mp3\n",
      "radiolab121410.mp3\n",
      "radiolab_podcast12solidrock.mp3\n",
      "radiolab_podcast12cranes.mp3\n",
      "radiolab_podcast12nightmare.mp3\n",
      "radiolab100411.mp3\n",
      "radiolab_podcast12astronaut.mp3\n",
      "radiolab_podcast11beachey.mp3\n",
      "radiolab_podcast10vertigo.mp3\n",
      "radiolab_podcast10bats.mp3\n",
      "radiolab_podcast10tech.mp3\n",
      "radiolab100810.mp3\n",
      "radiolab092010.mp3\n",
      "radiolab_podcast10voices.mp3\n",
      "radiolab_podcast09indefenseofdarwin.mp3\n",
      "radiolab_podcast10jericho.mp3\n",
      "radiolab_podcast14groans.mp3\n",
      "radiolab091809.mp3\n",
      "radiolab121712.mp3\n",
      "radiolab091109.mp3\n",
      "radiolab_podcast10proof.mp3\n",
      "radiolab_podcast10prairie.mp3\n",
      "radiolab_podcast11basal.mp3\n",
      "radiolab_podcast08arewecoins.mp3\n",
      "radiolab_podcast11milne.mp3\n",
      "radiolab053111.mp3\n",
      "radiolab_podcast11tictac.mp3\n",
      "radiolab_podcast13gone.mp3\n",
      "radiolab_podcast07stayinalive.mp3\n",
      "radiolab_podcast081208.mp3\n",
      "radiolab071111.mp3\n",
      "radiolab082311.mp3\n",
      "radiolab_podcast11schooler.mp3\n",
      "radiolab_podcast11charliewild.mp3\n",
      "radiolab_podcast11curiousjune.mp3\n",
      "radiolab_podcast070108.mp3\n",
      "radiolab092412.mp3\n",
      "radiolab_podcast052008.mp3\n",
      "radiolab_podcast072908.mp3\n",
      "radiolab_podcast061708.mp3\n",
      "radiolab_podcast12painscale.mp3\n",
      "radiolab032108.mp3\n",
      "radiolab_podcast060308.mp3\n",
      "radiolab_podcast12threat.mp3\n",
      "radiolab052112.mp3\n",
      "radiolab_podcast12remix.mp3\n",
      "radiolab051206.mp3\n",
      "radiolab042106.mp3\n",
      "radiolab_podcast050608.mp3\n",
      "radiolab031408.mp3\n",
      "radiolab_podcast12slinky.mp3\n",
      "radiolab_podcast12gamma.mp3\n",
      "radiolab042806.mp3\n",
      "radiolab030405.mp3\n",
      "radiolab_podcast12ants.mp3\n",
      "radiolab041406.mp3\n",
      "radiolab051807pod.mp3\n",
      "radiolab082807pod.mp3\n",
      "radiolab060807pod.mp3\n",
      "radiolab060107pod.mp3\n",
      "radiolab050506.mp3\n",
      "radiolab091010.mp3\n",
      "radiolab042407pod.mp3\n",
      "radiolab052507pod.mp3\n",
      "radiolab061507pod.mp3\n",
      "radiolab041007pod.mp3\n",
      "radiolab_podcast10lobster.mp3\n",
      "radiolab_podcast10success.mp3\n",
      "radiolab050807pod.mp3\n",
      "radiolab050710.mp3\n",
      "radiolab090310.mp3\n",
      "radiolab_podcast09joshgreene.mp3\n",
      "radiolab_podcast10buke.mp3\n",
      "radiolab_podcast10nuns.mp3\n",
      "radiolab_podcast09mightbe.mp3\n",
      "radiolab_podcast10strangers.mp3\n",
      "radiolab_podcast09helicopter.mp3\n",
      "radiolab100209.mp3\n",
      "radiolab_podcast09blink.mp3\n",
      "radiolab092509.mp3\n",
      "radiolab111408.mp3\n",
      "radiolab_podcastafterbirth.mp3\n",
      "radiolab120508.mp3\n",
      "radiolab_podcast15sum.mp3\n",
      "radiolab112108.mp3\n",
      "radiolab112808.mp3\n",
      "radiolab_podcast102108.mp3\n",
      "radiolab_podcast090908.mp3\n",
      "radiolab_podcast100708.mp3\n",
      "radiolab_podcast082608.mp3\n",
      "radiolab_podcast05juana.mp3\n",
      "radiolab_podcast06avsmackdown.mp3\n",
      "radiolab_podcast01darwin.mp3\n",
      "radiolab_podcast02marshmallows.mp3\n",
      "radiolab_podcast092308.mp3\n",
      "radiolab121208.mp3\n",
      "radiolab_podcast04insilence.mp3\n",
      "radiolab_podcast03blackholes.mp3\n",
      "radiolab022908.mp3\n",
      "radiolab022208.mp3\n",
      "radiolab_podcast012709.mp3\n",
      "radiolab_podcast021108.mp3\n",
      "radiolab012908pod.mp3\n",
      "radiolab121807pod.mp3\n",
      "radiolab112007pod.mp3\n",
      "radiolab010108pod.mp3\n",
      "radiolab110907pod.mp3\n",
      "radiolab120407pod.mp3\n"
     ]
    }
   ],
   "source": [
    "for i in results.links:\n",
    "    if i:\n",
    "        filename = i.split('/')[-1]\n",
    "        if os.path.isfile(filename) == False:\n",
    "            print(filename)\n",
    "            h = 'http://' + i[i.find('audio.wnyc.org'):]\n",
    "            time.sleep(5)\n",
    "            wget.download(h)"
   ]
  }
 ],
 "metadata": {
  "kernelspec": {
   "display_name": "Python 3",
   "language": "python",
   "name": "python3"
  },
  "language_info": {
   "codemirror_mode": {
    "name": "ipython",
    "version": 3
   },
   "file_extension": ".py",
   "mimetype": "text/x-python",
   "name": "python",
   "nbconvert_exporter": "python",
   "pygments_lexer": "ipython3",
   "version": "3.6.8"
  }
 },
 "nbformat": 4,
 "nbformat_minor": 2
}
